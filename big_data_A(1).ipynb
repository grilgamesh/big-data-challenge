{
  "nbformat": 4,
  "nbformat_minor": 0,
  "metadata": {
    "colab": {
      "name": "big data A",
      "provenance": []
    },
    "kernelspec": {
      "name": "python3",
      "display_name": "Python 3"
    },
    "language_info": {
      "name": "python"
    }
  },
  "cells": [
    {
      "cell_type": "code",
      "execution_count": null,
      "metadata": {
        "colab": {
          "base_uri": "https://localhost:8080/"
        },
        "id": "63xquGJn8cqv",
        "outputId": "e2417f78-e830-4520-ec96-eafe32e38e95"
      },
      "outputs": [
        {
          "output_type": "stream",
          "name": "stdout",
          "text": [
            "\r0% [Working]\r            \rIgn:1 https://developer.download.nvidia.com/compute/machine-learning/repos/ubuntu1804/x86_64  InRelease\n",
            "\r0% [Connecting to archive.ubuntu.com] [Connecting to security.ubuntu.com (91.18\r                                                                               \rHit:2 https://developer.download.nvidia.com/compute/cuda/repos/ubuntu1804/x86_64  InRelease\n",
            "Hit:3 https://developer.download.nvidia.com/compute/machine-learning/repos/ubuntu1804/x86_64  Release\n",
            "Hit:4 https://cloud.r-project.org/bin/linux/ubuntu bionic-cran40/ InRelease\n",
            "Hit:5 http://security.ubuntu.com/ubuntu bionic-security InRelease\n",
            "Hit:6 http://ppa.launchpad.net/c2d4u.team/c2d4u4.0+/ubuntu bionic InRelease\n",
            "Hit:8 http://archive.ubuntu.com/ubuntu bionic InRelease\n",
            "Hit:9 http://archive.ubuntu.com/ubuntu bionic-updates InRelease\n",
            "Hit:10 http://ppa.launchpad.net/cran/libgit2/ubuntu bionic InRelease\n",
            "Hit:11 http://archive.ubuntu.com/ubuntu bionic-backports InRelease\n",
            "Hit:12 http://ppa.launchpad.net/deadsnakes/ppa/ubuntu bionic InRelease\n",
            "Hit:13 http://ppa.launchpad.net/graphics-drivers/ppa/ubuntu bionic InRelease\n",
            "Reading package lists... Done\n"
          ]
        }
      ],
      "source": [
        "import os\n",
        "# Find the latest version of spark 3.0  from http://www-us.apache.org/dist/spark/ and enter as the spark version\n",
        "# For example:\n",
        "spark_version = 'spark-3.3.0'\n",
        "# spark_version = 'spark-3.<spark version>'\n",
        "os.environ['SPARK_VERSION']=spark_version\n",
        "\n",
        "# Install Spark and Java\n",
        "!apt-get update\n",
        "!apt-get install openjdk-11-jdk-headless -qq > /dev/null\n",
        "!wget -q https://downloads.apache.org/spark/$SPARK_VERSION/$SPARK_VERSION-bin-hadoop3.tgz\n",
        "!tar xf $SPARK_VERSION-bin-hadoop3.tgz\n",
        "!pip install -q findspark\n",
        "\n",
        "# Set Environment Variables\n",
        "import os\n",
        "os.environ[\"JAVA_HOME\"] = \"/usr/lib/jvm/java-11-openjdk-amd64\"\n",
        "os.environ[\"SPARK_HOME\"] = f\"/content/{spark_version}-bin-hadoop3\"\n",
        "\n",
        "# Start a SparkSession\n",
        "import findspark\n",
        "findspark.init()\n"
      ]
    },
    {
      "cell_type": "code",
      "source": [
        "!wget https://jdbc.postgresql.org/download/postgresql-42.2.9.jar"
      ],
      "metadata": {
        "id": "3q26D8Ch8mHV",
        "colab": {
          "base_uri": "https://localhost:8080/"
        },
        "outputId": "d6a91075-4206-4231-c98c-483cdc273c6e"
      },
      "execution_count": null,
      "outputs": [
        {
          "output_type": "stream",
          "name": "stdout",
          "text": [
            "--2022-08-18 17:23:22--  https://jdbc.postgresql.org/download/postgresql-42.2.9.jar\n",
            "Resolving jdbc.postgresql.org (jdbc.postgresql.org)... 72.32.157.228, 2001:4800:3e1:1::228\n",
            "Connecting to jdbc.postgresql.org (jdbc.postgresql.org)|72.32.157.228|:443... connected.\n",
            "HTTP request sent, awaiting response... 200 OK\n",
            "Length: 914037 (893K) [application/java-archive]\n",
            "Saving to: ‘postgresql-42.2.9.jar.1’\n",
            "\n",
            "postgresql-42.2.9.j 100%[===================>] 892.61K  5.49MB/s    in 0.2s    \n",
            "\n",
            "2022-08-18 17:23:22 (5.49 MB/s) - ‘postgresql-42.2.9.jar.1’ saved [914037/914037]\n",
            "\n"
          ]
        }
      ]
    },
    {
      "cell_type": "code",
      "source": [
        ""
      ],
      "metadata": {
        "id": "YYZfau6O95N0"
      },
      "execution_count": null,
      "outputs": []
    },
    {
      "cell_type": "code",
      "source": [
        "from pyspark.sql import SparkSession\n",
        "spark = SparkSession.builder.appName(\"CloudETLProjectAnalysis\").config(\"spark.driver.extraClassPath\",\"/content/postgresql-42.2.9.jar\").getOrCreate()\n",
        "\n",
        "from pyspark import SparkFiles\n",
        "# Load file\n",
        "url = \"https://s3.amazonaws.com/amazon-reviews-pds/tsv/amazon_reviews_multilingual_UK_v1_00.tsv.gz\""
      ],
      "metadata": {
        "id": "xSVESb089-Hr"
      },
      "execution_count": null,
      "outputs": []
    },
    {
      "cell_type": "code",
      "source": [
        "spark.sparkContext.addFile(url)\n",
        "\n",
        "df = spark.read.option('header', 'true').csv(SparkFiles.get(\"amazon_reviews_multilingual_UK_v1_00.tsv.gz\"), inferSchema=True, sep='\\t', timestampFormat=\"mm/dd/yy\")\n",
        "df.show(10)"
      ],
      "metadata": {
        "colab": {
          "base_uri": "https://localhost:8080/"
        },
        "id": "ht4a5lNhLiIs",
        "outputId": "5a0fd83e-5d30-4a54-a399-6e628a0f7d2f"
      },
      "execution_count": null,
      "outputs": [
        {
          "output_type": "stream",
          "name": "stdout",
          "text": [
            "+-----------+-----------+--------------+----------+--------------+--------------------+--------------------+-----------+-------------+-----------+----+-----------------+--------------------+--------------------+-----------+\n",
            "|marketplace|customer_id|     review_id|product_id|product_parent|       product_title|    product_category|star_rating|helpful_votes|total_votes|vine|verified_purchase|     review_headline|         review_body|review_date|\n",
            "+-----------+-----------+--------------+----------+--------------+--------------------+--------------------+-----------+-------------+-----------+----+-----------------+--------------------+--------------------+-----------+\n",
            "|         UK|      10349|R2YVNBBMXD8KVJ|B00MWK7BWG|     307651059|My Favourite Fade...|               Music|          5|            0|          0|   N|                Y|          Five Stars|The best album ever!| 2014-12-29|\n",
            "|         UK|      10629|R2K4BOL8MN1TTY|B006CHML4I|     835010224|Seiko 5 Men's Aut...|             Watches|          4|            0|          0|   N|                Y|Great watch from ...|What a great watc...| 2013-10-24|\n",
            "|         UK|      12136|R3P40IEALROVCH|B00IIFCJX0|     271687675|     Dexter Season 8|Digital_Video_Dow...|          5|            0|          0|   N|                Y|           fantastic|love watching all...| 2014-05-09|\n",
            "|         UK|      12268|R25XL1WWYRDLA9|B000W7JWUA|     211383699|The Settlers of C...|                Toys|          5|            0|          0|   N|                Y|          Five Stars|   Excellent game!!!| 2014-09-19|\n",
            "|         UK|      12677| RVTVB9YDXSFYH|B005JTAP4S|     182965893|Peter: A Darkened...|Digital_Ebook_Pur...|          5|           12|         12|   N|                N|    A twist on Tales|This cute, quick ...| 2013-09-18|\n",
            "|         UK|      13070| R1P16QCZR7RHM|B00004WMYB|     530484605|The Marshall Math...|               Music|          1|            1|          7|   N|                Y| scratches n a crack|im very disappoin...| 2013-07-30|\n",
            "|         UK|      15356|R3DHVC6SGQS5JU|B00CEF014E|     658330608|            Solstice|Digital_Ebook_Pur...|          5|            0|          0|   N|                N|A Gripping Page T...|Solstice is a hea...| 2013-11-26|\n",
            "|         UK|      16019|R2F2I7T03D42TE|1849839735|     143601567|        Total Recall|               Books|          4|            0|          0|   N|                Y|Birthday present ...|My son read it an...| 2013-12-23|\n",
            "|         UK|      16563|R3G5WIW7NNA1CS|B004OY47JS|      74795975|Billy Elliot (1 D...|           Video DVD|          5|            0|          0|   N|                Y|Nice steelbook ca...|Nice steelbook ca...| 2013-10-28|\n",
            "|         UK|      17139| R75U5MUIZ9T0D|B009O36EO0|     269758980|                Heal|               Music|          5|            3|          4|   N|                Y|            MAGIC!!!|Euphoria is one o...| 2012-11-10|\n",
            "+-----------+-----------+--------------+----------+--------------+--------------------+--------------------+-----------+-------------+-----------+----+-----------------+--------------------+--------------------+-----------+\n",
            "only showing top 10 rows\n",
            "\n"
          ]
        }
      ]
    },
    {
      "cell_type": "markdown",
      "source": [
        ""
      ],
      "metadata": {
        "id": "XH8jjS7vR5xQ"
      }
    },
    {
      "cell_type": "code",
      "source": [
        "# Count the number of records (rows) in the dataset\n",
        "rows = df.count()\n",
        "print(f\"dataframe has {rows} rows\")"
      ],
      "metadata": {
        "colab": {
          "base_uri": "https://localhost:8080/"
        },
        "id": "sGRA4YeBLxCn",
        "outputId": "10591e99-1b8d-49ca-9526-f00f6280fc94"
      },
      "execution_count": null,
      "outputs": [
        {
          "output_type": "stream",
          "name": "stdout",
          "text": [
            "dataframe has 1707494 rows\n"
          ]
        }
      ]
    },
    {
      "cell_type": "code",
      "source": [
        "# Transform the dataset to fit the tables in the schema file. Be sure that the DataFrames match in data type and in column name.\n",
        "\n",
        "#check for null values - we don't want any in review_id, customer_id, or product_id.\n",
        "from pyspark.sql.functions import col,sum\n",
        "df.select(*(sum(col(c).isNull().cast(\"int\")).alias(c) for c in df.columns)).show()"
      ],
      "metadata": {
        "colab": {
          "base_uri": "https://localhost:8080/"
        },
        "id": "RGhrCn1XSW_u",
        "outputId": "424b3d16-3d0d-49f3-f243-508a7335d2fc"
      },
      "execution_count": null,
      "outputs": [
        {
          "output_type": "stream",
          "name": "stdout",
          "text": [
            "+-----------+-----------+---------+----------+--------------+-------------+----------------+-----------+-------------+-----------+----+-----------------+---------------+-----------+-----------+\n",
            "|marketplace|customer_id|review_id|product_id|product_parent|product_title|product_category|star_rating|helpful_votes|total_votes|vine|verified_purchase|review_headline|review_body|review_date|\n",
            "+-----------+-----------+---------+----------+--------------+-------------+----------------+-----------+-------------+-----------+----+-----------------+---------------+-----------+-----------+\n",
            "|          0|          0|        0|         0|             0|            0|               0|          0|            0|          0|   0|                0|              1|         50|         59|\n",
            "+-----------+-----------+---------+----------+--------------+-------------+----------------+-----------+-------------+-----------+----+-----------------+---------------+-----------+-----------+\n",
            "\n"
          ]
        }
      ]
    },
    {
      "cell_type": "code",
      "source": [
        "# Get column names and types\n",
        "df.dtypes"
      ],
      "metadata": {
        "colab": {
          "base_uri": "https://localhost:8080/"
        },
        "id": "cluyDv4jV5cT",
        "outputId": "24551d52-292e-4888-c08e-0fd6b36e2146"
      },
      "execution_count": null,
      "outputs": [
        {
          "output_type": "execute_result",
          "data": {
            "text/plain": [
              "[('marketplace', 'string'),\n",
              " ('customer_id', 'int'),\n",
              " ('review_id', 'string'),\n",
              " ('product_id', 'string'),\n",
              " ('product_parent', 'int'),\n",
              " ('product_title', 'string'),\n",
              " ('product_category', 'string'),\n",
              " ('star_rating', 'int'),\n",
              " ('helpful_votes', 'int'),\n",
              " ('total_votes', 'int'),\n",
              " ('vine', 'string'),\n",
              " ('verified_purchase', 'string'),\n",
              " ('review_headline', 'string'),\n",
              " ('review_body', 'string'),\n",
              " ('review_date', 'string')]"
            ]
          },
          "metadata": {},
          "execution_count": 7
        }
      ]
    },
    {
      "cell_type": "code",
      "source": [
        "# CREATE TABLE review_id_table (\n",
        "#   review_id TEXT PRIMARY KEY NOT NULL,\n",
        "#   customer_id INTEGER,\n",
        "#   product_id TEXT,\n",
        "#   product_parent INTEGER,\n",
        "#   review_date DATE -- this should be in the formate yyyy-mm-dd\n",
        "# );\n",
        "\n",
        "from pyspark.sql.functions import col\n",
        "from pyspark.sql.functions import to_date\n",
        "\n",
        "review_id_table = df[['review_id', 'customer_id', 'product_id', 'product_parent', 'review_date']]\n",
        "review_id_table = review_id_table.withColumn(\"review_date\",to_date(col(\"review_date\"),\"yyyy-mm-dd\"))\n",
        "review_id_table.show(10)"
      ],
      "metadata": {
        "colab": {
          "base_uri": "https://localhost:8080/"
        },
        "id": "35hrHIbrT7iU",
        "outputId": "8f908e7a-888f-405d-d9c7-45d4a4e12daa"
      },
      "execution_count": null,
      "outputs": [
        {
          "output_type": "stream",
          "name": "stdout",
          "text": [
            "+--------------+-----------+----------+--------------+-----------+\n",
            "|     review_id|customer_id|product_id|product_parent|review_date|\n",
            "+--------------+-----------+----------+--------------+-----------+\n",
            "|R2YVNBBMXD8KVJ|      10349|B00MWK7BWG|     307651059| 2014-01-29|\n",
            "|R2K4BOL8MN1TTY|      10629|B006CHML4I|     835010224| 2013-01-24|\n",
            "|R3P40IEALROVCH|      12136|B00IIFCJX0|     271687675| 2014-01-09|\n",
            "|R25XL1WWYRDLA9|      12268|B000W7JWUA|     211383699| 2014-01-19|\n",
            "| RVTVB9YDXSFYH|      12677|B005JTAP4S|     182965893| 2013-01-18|\n",
            "| R1P16QCZR7RHM|      13070|B00004WMYB|     530484605| 2013-01-30|\n",
            "|R3DHVC6SGQS5JU|      15356|B00CEF014E|     658330608| 2013-01-26|\n",
            "|R2F2I7T03D42TE|      16019|1849839735|     143601567| 2013-01-23|\n",
            "|R3G5WIW7NNA1CS|      16563|B004OY47JS|      74795975| 2013-01-28|\n",
            "| R75U5MUIZ9T0D|      17139|B009O36EO0|     269758980| 2012-01-10|\n",
            "+--------------+-----------+----------+--------------+-----------+\n",
            "only showing top 10 rows\n",
            "\n"
          ]
        }
      ]
    },
    {
      "cell_type": "code",
      "source": [
        "# -- This table will contain only unique values\n",
        "# CREATE TABLE products (\n",
        "#   product_id TEXT PRIMARY KEY NOT NULL UNIQUE,\n",
        "#   product_title TEXT\n",
        "# );\n",
        "\n",
        "products = df[['product_id', 'product_title']]\n",
        "products = products.dropDuplicates()\n",
        "products.count()"
      ],
      "metadata": {
        "colab": {
          "base_uri": "https://localhost:8080/"
        },
        "id": "Iv_wtEiSL3e7",
        "outputId": "ef24a13d-1a2e-47b3-8168-9cc46db02104"
      },
      "execution_count": null,
      "outputs": [
        {
          "output_type": "execute_result",
          "data": {
            "text/plain": [
              "58703"
            ]
          },
          "metadata": {},
          "execution_count": 31
        }
      ]
    },
    {
      "cell_type": "code",
      "source": [
        "products.show(10)"
      ],
      "metadata": {
        "colab": {
          "base_uri": "https://localhost:8080/"
        },
        "id": "TbOKMohxfZaB",
        "outputId": "4854f87c-5bf0-4149-eeb1-42dd9ea64d52"
      },
      "execution_count": null,
      "outputs": [
        {
          "output_type": "stream",
          "name": "stdout",
          "text": [
            "+----------+--------------------+\n",
            "|product_id|       product_title|\n",
            "+----------+--------------------+\n",
            "|144476490X|Bob: No Ordinary Cat|\n",
            "|B00742STVE|  Brave [DVD] [2012]|\n",
            "|B007BRJYF2|Alice in Wonderla...|\n",
            "|0141976144|Wreck This Journa...|\n",
            "|B00C2SF8A0|The Bling Ring [D...|\n",
            "|B0063H2ZS4|   Warrior [Blu-ray]|\n",
            "|0099545837|Barbarians At The...|\n",
            "|0553811851|Tripwire: (Jack R...|\n",
            "|B00FLDG52I|Crossroads Guitar...|\n",
            "|B000HT1XVY|To Kill a Mocking...|\n",
            "+----------+--------------------+\n",
            "only showing top 10 rows\n",
            "\n"
          ]
        }
      ]
    },
    {
      "cell_type": "code",
      "source": [
        "# -- Customer table for first data set\n",
        "# CREATE TABLE customers (\n",
        "#   customer_id INT PRIMARY KEY NOT NULL UNIQUE,\n",
        "#   customer_count INT\n",
        "# );\n",
        "\n",
        "customers = df[['customer_id']]\n",
        "customers = customers.groupBy(\"customer_id\").count()\n",
        "customers = customers.withColumnRenamed(\"count\",\"customer_count\")\n",
        "\n",
        "customers.show(10)"
      ],
      "metadata": {
        "colab": {
          "base_uri": "https://localhost:8080/"
        },
        "id": "is2PE-75TUBr",
        "outputId": "329e7da7-c817-43f5-87cc-ff2ef726d713"
      },
      "execution_count": null,
      "outputs": [
        {
          "output_type": "stream",
          "name": "stdout",
          "text": [
            "+-----------+--------------+\n",
            "|customer_id|customer_count|\n",
            "+-----------+--------------+\n",
            "|      27484|             1|\n",
            "|      29285|             1|\n",
            "|      76756|             1|\n",
            "|      94377|             1|\n",
            "|      94695|             1|\n",
            "|     455661|             1|\n",
            "|     520983|             1|\n",
            "|    1066144|             1|\n",
            "|    1293329|             1|\n",
            "|    1464706|             2|\n",
            "+-----------+--------------+\n",
            "only showing top 10 rows\n",
            "\n"
          ]
        }
      ]
    },
    {
      "cell_type": "code",
      "source": [
        "# -- vine table\n",
        "# CREATE TABLE vine_table (\n",
        "#   review_id TEXT PRIMARY KEY,\n",
        "#   star_rating INTEGER,\n",
        "#   helpful_votes INTEGER,\n",
        "#   total_votes INTEGER,\n",
        "#   vine TEXT\n",
        "# );\n",
        "\n",
        "\n",
        "\n",
        "vine_table = df[['review_id', 'star_rating', 'helpful_votes', 'total_votes', 'vine']]\n",
        "vine_table.show(10)"
      ],
      "metadata": {
        "colab": {
          "base_uri": "https://localhost:8080/"
        },
        "id": "vfoSn_NMTYBV",
        "outputId": "83c4ded5-e218-45de-9bf6-f144ee8e89a1"
      },
      "execution_count": null,
      "outputs": [
        {
          "output_type": "stream",
          "name": "stdout",
          "text": [
            "+--------------+-----------+-------------+-----------+----+\n",
            "|     review_id|star_rating|helpful_votes|total_votes|vine|\n",
            "+--------------+-----------+-------------+-----------+----+\n",
            "|R2YVNBBMXD8KVJ|          5|            0|          0|   N|\n",
            "|R2K4BOL8MN1TTY|          4|            0|          0|   N|\n",
            "|R3P40IEALROVCH|          5|            0|          0|   N|\n",
            "|R25XL1WWYRDLA9|          5|            0|          0|   N|\n",
            "| RVTVB9YDXSFYH|          5|           12|         12|   N|\n",
            "| R1P16QCZR7RHM|          1|            1|          7|   N|\n",
            "|R3DHVC6SGQS5JU|          5|            0|          0|   N|\n",
            "|R2F2I7T03D42TE|          4|            0|          0|   N|\n",
            "|R3G5WIW7NNA1CS|          5|            0|          0|   N|\n",
            "| R75U5MUIZ9T0D|          5|            3|          4|   N|\n",
            "+--------------+-----------+-------------+-----------+----+\n",
            "only showing top 10 rows\n",
            "\n"
          ]
        }
      ]
    },
    {
      "cell_type": "code",
      "source": [
        "#Load the DataFrames that correspond to tables into an RDS instance. \n",
        "# Note: This process can take up to 10 minutes for each. Ensure that everything is correct before uploading.\n",
        "\n",
        " # Configure settings for RDS\n",
        "mode = \"append\"\n",
        "jdbc_url=\"jdbc:postgresql://<<endpoint>>:5432/amazon_reviews\"\n",
        "config = {\"user\":\"root\", \n",
        "          \"password\": \"<<pass>>\", \n",
        "          \"driver\":\"org.postgresql.Driver\"}\n",
        "\n",
        "          ## REMEMBER TO DELETE PASSWORD and ENDPOINT AFORE UPLOADING\n",
        "          ## AND THEN SHUT DOWN ALL AWS BUCKETS AND RDS"
      ],
      "metadata": {
        "id": "QRtMCLcQhz48"
      },
      "execution_count": null,
      "outputs": []
    },
    {
      "cell_type": "code",
      "source": [
        "# Write DataFrames to tables\n",
        "\n",
        "review_id_table.write.jdbc(url=jdbc_url, table='review_id_table', mode=mode, properties=config)"
      ],
      "metadata": {
        "id": "4htC_C8OQsl5"
      },
      "execution_count": null,
      "outputs": []
    },
    {
      "cell_type": "code",
      "source": [
        "customers.write.jdbc(url=jdbc_url, table='customers', mode=mode, properties=config)"
      ],
      "metadata": {
        "id": "2GDt_-YQIWow"
      },
      "execution_count": null,
      "outputs": []
    },
    {
      "cell_type": "code",
      "source": [
        "products.write.jdbc(url=jdbc_url, table='products', mode=mode, properties=config)"
      ],
      "metadata": {
        "id": "SoTL22-uRHEi"
      },
      "execution_count": null,
      "outputs": []
    },
    {
      "cell_type": "code",
      "source": [
        "vine_table.write.jdbc(url=jdbc_url, table='vine_table', mode=mode, properties=config)"
      ],
      "metadata": {
        "id": "F7BBfGrvIZQs"
      },
      "execution_count": null,
      "outputs": []
    },
    {
      "cell_type": "code",
      "source": [
        ""
      ],
      "metadata": {
        "id": "H0X_ska3I6zp"
      },
      "execution_count": null,
      "outputs": []
    }
  ]
}