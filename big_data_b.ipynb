{
  "nbformat": 4,
  "nbformat_minor": 0,
  "metadata": {
    "colab": {
      "name": "big data b",
      "provenance": []
    },
    "kernelspec": {
      "name": "python3",
      "display_name": "Python 3"
    },
    "language_info": {
      "name": "python"
    }
  },
  "cells": [
    {
      "cell_type": "code",
      "execution_count": 1,
      "metadata": {
        "colab": {
          "base_uri": "https://localhost:8080/"
        },
        "id": "63xquGJn8cqv",
        "outputId": "bee0492e-b6be-4654-8f0f-d205adfbc76b"
      },
      "outputs": [
        {
          "output_type": "stream",
          "name": "stdout",
          "text": [
            "Get:1 https://cloud.r-project.org/bin/linux/ubuntu bionic-cran40/ InRelease [3,626 B]\n",
            "Ign:2 https://developer.download.nvidia.com/compute/machine-learning/repos/ubuntu1804/x86_64  InRelease\n",
            "Get:3 http://security.ubuntu.com/ubuntu bionic-security InRelease [88.7 kB]\n",
            "Get:4 https://developer.download.nvidia.com/compute/cuda/repos/ubuntu1804/x86_64  InRelease [1,581 B]\n",
            "Hit:5 https://developer.download.nvidia.com/compute/machine-learning/repos/ubuntu1804/x86_64  Release\n",
            "Hit:6 http://archive.ubuntu.com/ubuntu bionic InRelease\n",
            "Get:7 http://ppa.launchpad.net/c2d4u.team/c2d4u4.0+/ubuntu bionic InRelease [15.9 kB]\n",
            "Get:8 https://developer.download.nvidia.com/compute/cuda/repos/ubuntu1804/x86_64  Packages [910 kB]\n",
            "Get:9 http://archive.ubuntu.com/ubuntu bionic-updates InRelease [88.7 kB]\n",
            "Hit:11 http://ppa.launchpad.net/cran/libgit2/ubuntu bionic InRelease\n",
            "Get:12 http://archive.ubuntu.com/ubuntu bionic-backports InRelease [74.6 kB]\n",
            "Hit:13 http://ppa.launchpad.net/deadsnakes/ppa/ubuntu bionic InRelease\n",
            "Hit:14 http://ppa.launchpad.net/graphics-drivers/ppa/ubuntu bionic InRelease\n",
            "Get:15 http://security.ubuntu.com/ubuntu bionic-security/universe amd64 Packages [1,533 kB]\n",
            "Get:16 http://ppa.launchpad.net/c2d4u.team/c2d4u4.0+/ubuntu bionic/main Sources [2,095 kB]\n",
            "Get:17 http://archive.ubuntu.com/ubuntu bionic-updates/main amd64 Packages [3,369 kB]\n",
            "Get:18 http://security.ubuntu.com/ubuntu bionic-security/main amd64 Packages [2,937 kB]\n",
            "Get:19 http://archive.ubuntu.com/ubuntu bionic-updates/universe amd64 Packages [2,310 kB]\n",
            "Get:20 http://ppa.launchpad.net/c2d4u.team/c2d4u4.0+/ubuntu bionic/main amd64 Packages [1,073 kB]\n",
            "Fetched 14.5 MB in 6s (2,324 kB/s)\n",
            "Reading package lists... Done\n"
          ]
        }
      ],
      "source": [
        "import os\n",
        "# Find the latest version of spark 3.0  from http://www-us.apache.org/dist/spark/ and enter as the spark version\n",
        "# For example:\n",
        "spark_version = 'spark-3.3.0'\n",
        "# spark_version = 'spark-3.<spark version>'\n",
        "os.environ['SPARK_VERSION']=spark_version\n",
        "\n",
        "# Install Spark and Java\n",
        "!apt-get update\n",
        "!apt-get install openjdk-11-jdk-headless -qq > /dev/null\n",
        "!wget -q https://downloads.apache.org/spark/$SPARK_VERSION/$SPARK_VERSION-bin-hadoop3.tgz\n",
        "!tar xf $SPARK_VERSION-bin-hadoop3.tgz\n",
        "!pip install -q findspark\n",
        "\n",
        "# Set Environment Variables\n",
        "import os\n",
        "os.environ[\"JAVA_HOME\"] = \"/usr/lib/jvm/java-11-openjdk-amd64\"\n",
        "os.environ[\"SPARK_HOME\"] = f\"/content/{spark_version}-bin-hadoop3\"\n",
        "\n",
        "# Start a SparkSession\n",
        "import findspark\n",
        "findspark.init()\n"
      ]
    },
    {
      "cell_type": "code",
      "source": [
        "!wget https://jdbc.postgresql.org/download/postgresql-42.2.9.jar"
      ],
      "metadata": {
        "id": "3q26D8Ch8mHV",
        "colab": {
          "base_uri": "https://localhost:8080/"
        },
        "outputId": "9212ab93-55e6-4339-b8e1-62bbaf72dcc4"
      },
      "execution_count": 2,
      "outputs": [
        {
          "output_type": "stream",
          "name": "stdout",
          "text": [
            "--2022-08-18 18:20:24--  https://jdbc.postgresql.org/download/postgresql-42.2.9.jar\n",
            "Resolving jdbc.postgresql.org (jdbc.postgresql.org)... 72.32.157.228, 2001:4800:3e1:1::228\n",
            "Connecting to jdbc.postgresql.org (jdbc.postgresql.org)|72.32.157.228|:443... connected.\n",
            "HTTP request sent, awaiting response... 200 OK\n",
            "Length: 914037 (893K) [application/java-archive]\n",
            "Saving to: ‘postgresql-42.2.9.jar’\n",
            "\n",
            "postgresql-42.2.9.j 100%[===================>] 892.61K  1.26MB/s    in 0.7s    \n",
            "\n",
            "2022-08-18 18:20:26 (1.26 MB/s) - ‘postgresql-42.2.9.jar’ saved [914037/914037]\n",
            "\n"
          ]
        }
      ]
    },
    {
      "cell_type": "code",
      "source": [
        ""
      ],
      "metadata": {
        "id": "YYZfau6O95N0"
      },
      "execution_count": 2,
      "outputs": []
    },
    {
      "cell_type": "code",
      "source": [
        "from pyspark.sql import SparkSession\n",
        "spark = SparkSession.builder.appName(\"CloudETLProjectAnalysis\").config(\"spark.driver.extraClassPath\",\"/content/postgresql-42.2.9.jar\").getOrCreate()\n",
        "\n",
        "from pyspark import SparkFiles\n",
        "# Load file\n",
        "url = \"https://s3.amazonaws.com/amazon-reviews-pds/tsv/amazon_reviews_multilingual_JP_v1_00.tsv.gz\""
      ],
      "metadata": {
        "id": "xSVESb089-Hr"
      },
      "execution_count": 3,
      "outputs": []
    },
    {
      "cell_type": "code",
      "source": [
        "spark.sparkContext.addFile(url)\n",
        "\n",
        "df = spark.read.option('header', 'true').csv(SparkFiles.get(\"amazon_reviews_multilingual_JP_v1_00.tsv.gz\"), inferSchema=True, sep='\\t', timestampFormat=\"mm/dd/yy\")\n",
        "df.show(10)"
      ],
      "metadata": {
        "colab": {
          "base_uri": "https://localhost:8080/"
        },
        "id": "ht4a5lNhLiIs",
        "outputId": "da846dc6-8086-4c1d-f847-ed255f9a221b"
      },
      "execution_count": 4,
      "outputs": [
        {
          "output_type": "stream",
          "name": "stdout",
          "text": [
            "+-----------+-----------+--------------+----------+--------------+--------------------------------+----------------+-----------+-------------+-----------+----+-----------------+-------------------------------+-------------------------------------+-----------+\n",
            "|marketplace|customer_id|     review_id|product_id|product_parent|                   product_title|product_category|star_rating|helpful_votes|total_votes|vine|verified_purchase|                review_headline|                          review_body|review_date|\n",
            "+-----------+-----------+--------------+----------+--------------+--------------------------------+----------------+-----------+-------------+-----------+----+-----------------+-------------------------------+-------------------------------------+-----------+\n",
            "|         JP|      65317|R33RSUD4ZTRKT7|B000001GBJ|     957145596|            SONGS FROM A SECR...|           Music|          1|            1|         15|   N|                Y|                    残念ながら…| 残念ながら…趣味ではありませんでし...| 2012-12-05|\n",
            "|         JP|      65317|R2U1VB8GPZBBEH|B000YPWBQ2|     904244932| 鏡の中の鏡‾ペルト作品集(SACD...|           Music|          1|            4|         20|   N|                Y|                    残念ながら…| 残念ながら…趣味ではありませんでし...| 2012-12-05|\n",
            "|         JP|      65696|R1IBRCJPPGWVJW|B0002E5O9G|     108978277|            Les Miserables 10...|           Music|          5|            2|          3|   N|                Y|               ドリームキャスト|素晴らしいパフォーマンス。ミュージ...| 2013-03-02|\n",
            "|         JP|      67162| RL02CW5XLYONU|B00004SRJ5|     606528497|            It Takes a Nation...|           Music|          5|            6|          9|   N|                Y|                 やっぱりマスト|専門的な事を言わずにお勧めレコメを...| 2013-08-11|\n",
            "|         JP|      67701|R2LA2SS3HU3A3L|B0093H8H8I|     509738390|            Intel CPU Core I3...|              PC|          4|            2|          4|   N|                Y|               コスパ的には十分|          今までの環境（Core2 Duo ...| 2013-02-10|\n",
            "|         JP|      68380|R32DR19C0UCHYN|B00712Y28Q|      37188049|            figma METROID Oth...|            Toys|          4|            2|          3|   N|                Y|クオリティは非常に高いですが…。|     figmaは初めて買いましたが、ク...| 2014-02-09|\n",
            "|         JP|      68655|R3O2A01NE9JI2O|B00N0YIQFE|     916594821|                ART OFFICIAL AGE|           Music|          5|            8|         13|   N|                Y|       デビューからずっと凄い人|  1曲目でメーターがあがり、2曲目で...| 2015-01-08|\n",
            "|         JP|      68973| RH1BDBT513AMD|B0015HOFZI|      29559888|SONY ステレオレコードプレーヤ...|     Electronics|          1|            3|         15|   N|                Y|                       音がダメ|アナログをデジタルに換え保存できる...| 2012-11-30|\n",
            "|         JP|      69080|R1J820Q5MFGUVX|B001R0KH3M|     369834710|            Live at Last [DVD...|       Video DVD|          5|            1|          2|   N|                Y|                   待ちに待った|スティービーのライブＤＶＤの少ない...| 2014-04-19|\n",
            "|         JP|      69552|R1A63XC56E0M30|B007ZB06OW|     380169630|     1/1000 宇宙戦艦ヤマト219...|            Toys|          4|            1|          4|   N|                Y|         かなり精巧にできてます|  小学2年の子どもと2人で作りました...| 2013-01-06|\n",
            "+-----------+-----------+--------------+----------+--------------+--------------------------------+----------------+-----------+-------------+-----------+----+-----------------+-------------------------------+-------------------------------------+-----------+\n",
            "only showing top 10 rows\n",
            "\n"
          ]
        }
      ]
    },
    {
      "cell_type": "markdown",
      "source": [
        ""
      ],
      "metadata": {
        "id": "XH8jjS7vR5xQ"
      }
    },
    {
      "cell_type": "code",
      "source": [
        "# Count the number of records (rows) in the dataset\n",
        "rows = df.count()\n",
        "print(f\"dataframe has {rows} rows\")"
      ],
      "metadata": {
        "colab": {
          "base_uri": "https://localhost:8080/"
        },
        "id": "sGRA4YeBLxCn",
        "outputId": "1750e7c0-7082-4e2e-e386-d57325a2e88c"
      },
      "execution_count": 5,
      "outputs": [
        {
          "output_type": "stream",
          "name": "stdout",
          "text": [
            "dataframe has 262431 rows\n"
          ]
        }
      ]
    },
    {
      "cell_type": "code",
      "source": [
        "# Transform the dataset to fit the tables in the schema file. Be sure that the DataFrames match in data type and in column name.\n",
        "\n",
        "#check for null values - we don't want any in review_id, customer_id, or product_id.\n",
        "from pyspark.sql.functions import col,sum\n",
        "df.select(*(sum(col(c).isNull().cast(\"int\")).alias(c) for c in df.columns)).show()"
      ],
      "metadata": {
        "colab": {
          "base_uri": "https://localhost:8080/"
        },
        "id": "RGhrCn1XSW_u",
        "outputId": "f44b3408-3755-441d-9e09-461a76b4ce7a"
      },
      "execution_count": 6,
      "outputs": [
        {
          "output_type": "stream",
          "name": "stdout",
          "text": [
            "+-----------+-----------+---------+----------+--------------+-------------+----------------+-----------+-------------+-----------+----+-----------------+---------------+-----------+-----------+\n",
            "|marketplace|customer_id|review_id|product_id|product_parent|product_title|product_category|star_rating|helpful_votes|total_votes|vine|verified_purchase|review_headline|review_body|review_date|\n",
            "+-----------+-----------+---------+----------+--------------+-------------+----------------+-----------+-------------+-----------+----+-----------------+---------------+-----------+-----------+\n",
            "|          0|          0|        0|         0|             0|            0|               0|          0|            0|          0|   0|                0|              1|          3|          8|\n",
            "+-----------+-----------+---------+----------+--------------+-------------+----------------+-----------+-------------+-----------+----+-----------------+---------------+-----------+-----------+\n",
            "\n"
          ]
        }
      ]
    },
    {
      "cell_type": "code",
      "source": [
        "# Get column names and types\n",
        "df.dtypes"
      ],
      "metadata": {
        "colab": {
          "base_uri": "https://localhost:8080/"
        },
        "id": "cluyDv4jV5cT",
        "outputId": "82b0bfbb-268e-463f-cb1d-b82aa39717e3"
      },
      "execution_count": 7,
      "outputs": [
        {
          "output_type": "execute_result",
          "data": {
            "text/plain": [
              "[('marketplace', 'string'),\n",
              " ('customer_id', 'int'),\n",
              " ('review_id', 'string'),\n",
              " ('product_id', 'string'),\n",
              " ('product_parent', 'int'),\n",
              " ('product_title', 'string'),\n",
              " ('product_category', 'string'),\n",
              " ('star_rating', 'int'),\n",
              " ('helpful_votes', 'int'),\n",
              " ('total_votes', 'int'),\n",
              " ('vine', 'string'),\n",
              " ('verified_purchase', 'string'),\n",
              " ('review_headline', 'string'),\n",
              " ('review_body', 'string'),\n",
              " ('review_date', 'string')]"
            ]
          },
          "metadata": {},
          "execution_count": 7
        }
      ]
    },
    {
      "cell_type": "code",
      "source": [
        "# CREATE TABLE review_id_table (\n",
        "#   review_id TEXT PRIMARY KEY NOT NULL,\n",
        "#   customer_id INTEGER,\n",
        "#   product_id TEXT,\n",
        "#   product_parent INTEGER,\n",
        "#   review_date DATE -- this should be in the formate yyyy-mm-dd\n",
        "# );\n",
        "\n",
        "from pyspark.sql.functions import col\n",
        "from pyspark.sql.functions import to_date\n",
        "\n",
        "review_id_table = df[['review_id', 'customer_id', 'product_id', 'product_parent', 'review_date']]\n",
        "review_id_table = review_id_table.withColumn(\"review_date\",to_date(col(\"review_date\"),\"yyyy-mm-dd\"))\n",
        "review_id_table.show(10)"
      ],
      "metadata": {
        "colab": {
          "base_uri": "https://localhost:8080/"
        },
        "id": "35hrHIbrT7iU",
        "outputId": "0411553c-b821-4fe7-c960-3f6a4681a699"
      },
      "execution_count": 8,
      "outputs": [
        {
          "output_type": "stream",
          "name": "stdout",
          "text": [
            "+--------------+-----------+----------+--------------+-----------+\n",
            "|     review_id|customer_id|product_id|product_parent|review_date|\n",
            "+--------------+-----------+----------+--------------+-----------+\n",
            "|R33RSUD4ZTRKT7|      65317|B000001GBJ|     957145596| 2012-01-05|\n",
            "|R2U1VB8GPZBBEH|      65317|B000YPWBQ2|     904244932| 2012-01-05|\n",
            "|R1IBRCJPPGWVJW|      65696|B0002E5O9G|     108978277| 2013-01-02|\n",
            "| RL02CW5XLYONU|      67162|B00004SRJ5|     606528497| 2013-01-11|\n",
            "|R2LA2SS3HU3A3L|      67701|B0093H8H8I|     509738390| 2013-01-10|\n",
            "|R32DR19C0UCHYN|      68380|B00712Y28Q|      37188049| 2014-01-09|\n",
            "|R3O2A01NE9JI2O|      68655|B00N0YIQFE|     916594821| 2015-01-08|\n",
            "| RH1BDBT513AMD|      68973|B0015HOFZI|      29559888| 2012-01-30|\n",
            "|R1J820Q5MFGUVX|      69080|B001R0KH3M|     369834710| 2014-01-19|\n",
            "|R1A63XC56E0M30|      69552|B007ZB06OW|     380169630| 2013-01-06|\n",
            "+--------------+-----------+----------+--------------+-----------+\n",
            "only showing top 10 rows\n",
            "\n"
          ]
        }
      ]
    },
    {
      "cell_type": "code",
      "source": [
        "# -- This table will contain only unique values\n",
        "# CREATE TABLE products (\n",
        "#   product_id TEXT PRIMARY KEY NOT NULL UNIQUE,\n",
        "#   product_title TEXT\n",
        "# );\n",
        "\n",
        "products = df[['product_id', 'product_title']]\n",
        "products = products.dropDuplicates()\n",
        "products.count()"
      ],
      "metadata": {
        "colab": {
          "base_uri": "https://localhost:8080/"
        },
        "id": "Iv_wtEiSL3e7",
        "outputId": "230d09d5-016c-4372-9263-14439d3920c7"
      },
      "execution_count": 9,
      "outputs": [
        {
          "output_type": "execute_result",
          "data": {
            "text/plain": [
              "38447"
            ]
          },
          "metadata": {},
          "execution_count": 9
        }
      ]
    },
    {
      "cell_type": "code",
      "source": [
        "products.show(10)"
      ],
      "metadata": {
        "colab": {
          "base_uri": "https://localhost:8080/"
        },
        "id": "TbOKMohxfZaB",
        "outputId": "ea184f12-720e-4522-e531-6400f034a9e3"
      },
      "execution_count": 10,
      "outputs": [
        {
          "output_type": "stream",
          "name": "stdout",
          "text": [
            "+----------+------------------------------------+\n",
            "|product_id|                       product_title|\n",
            "+----------+------------------------------------+\n",
            "|B0002E5O9G|                Les Miserables 10...|\n",
            "|B00NH13W2W|           Amazonベーシック Apple...|\n",
            "|B00REIAUD8|                 Love Me Like You Do|\n",
            "|B00JGI5NEK|                Joint Tenants (En...|\n",
            "|B00NT5NC5I| ホエア・ウィー・アー' ライブ・フ...|\n",
            "|B00MOBNRY4|       レゴ (LEGO) アーキテクチャ...|\n",
            "|B003CN5W1E|  バイオハザードIV アフターライフ...|\n",
            "|B000816TCY|           Nikon Li-ionリチャージ...|\n",
            "|1465418970|                LEGO Star Wars: T...|\n",
            "|B00LISORJI|ゲイリー・ムーア~ライヴ・アット・...|\n",
            "+----------+------------------------------------+\n",
            "only showing top 10 rows\n",
            "\n"
          ]
        }
      ]
    },
    {
      "cell_type": "code",
      "source": [
        "# -- Customer table for first data set\n",
        "# CREATE TABLE customers (\n",
        "#   customer_id INT PRIMARY KEY NOT NULL UNIQUE,\n",
        "#   customer_count INT\n",
        "# );\n",
        "\n",
        "customers = df[['customer_id']]\n",
        "customers = customers.groupBy(\"customer_id\").count()\n",
        "customers = customers.withColumnRenamed(\"count\",\"customer_count\")\n",
        "\n",
        "customers.show(10)"
      ],
      "metadata": {
        "colab": {
          "base_uri": "https://localhost:8080/"
        },
        "id": "is2PE-75TUBr",
        "outputId": "1346ac54-ee8a-4ae8-df1f-09e9ff860de7"
      },
      "execution_count": 11,
      "outputs": [
        {
          "output_type": "stream",
          "name": "stdout",
          "text": [
            "+-----------+--------------+\n",
            "|customer_id|customer_count|\n",
            "+-----------+--------------+\n",
            "|    6101092|             1|\n",
            "|    6284204|             1|\n",
            "|    6463589|             1|\n",
            "|    6483599|             1|\n",
            "|    7135090|             1|\n",
            "|    7144452|             1|\n",
            "|    7156796|             1|\n",
            "|    7249117|             1|\n",
            "|    7336981|             1|\n",
            "|    7469928|             1|\n",
            "+-----------+--------------+\n",
            "only showing top 10 rows\n",
            "\n"
          ]
        }
      ]
    },
    {
      "cell_type": "code",
      "source": [
        "# -- vine table\n",
        "# CREATE TABLE vine_table (\n",
        "#   review_id TEXT PRIMARY KEY,\n",
        "#   star_rating INTEGER,\n",
        "#   helpful_votes INTEGER,\n",
        "#   total_votes INTEGER,\n",
        "#   vine TEXT\n",
        "# );\n",
        "\n",
        "\n",
        "\n",
        "vine_table = df[['review_id', 'star_rating', 'helpful_votes', 'total_votes', 'vine']]\n",
        "vine_table.show(10)"
      ],
      "metadata": {
        "colab": {
          "base_uri": "https://localhost:8080/"
        },
        "id": "vfoSn_NMTYBV",
        "outputId": "d1a13ec0-58b9-417a-991c-45aaccb02680"
      },
      "execution_count": 12,
      "outputs": [
        {
          "output_type": "stream",
          "name": "stdout",
          "text": [
            "+--------------+-----------+-------------+-----------+----+\n",
            "|     review_id|star_rating|helpful_votes|total_votes|vine|\n",
            "+--------------+-----------+-------------+-----------+----+\n",
            "|R33RSUD4ZTRKT7|          1|            1|         15|   N|\n",
            "|R2U1VB8GPZBBEH|          1|            4|         20|   N|\n",
            "|R1IBRCJPPGWVJW|          5|            2|          3|   N|\n",
            "| RL02CW5XLYONU|          5|            6|          9|   N|\n",
            "|R2LA2SS3HU3A3L|          4|            2|          4|   N|\n",
            "|R32DR19C0UCHYN|          4|            2|          3|   N|\n",
            "|R3O2A01NE9JI2O|          5|            8|         13|   N|\n",
            "| RH1BDBT513AMD|          1|            3|         15|   N|\n",
            "|R1J820Q5MFGUVX|          5|            1|          2|   N|\n",
            "|R1A63XC56E0M30|          4|            1|          4|   N|\n",
            "+--------------+-----------+-------------+-----------+----+\n",
            "only showing top 10 rows\n",
            "\n"
          ]
        }
      ]
    },
    {
      "cell_type": "code",
      "source": [
        "#Load the DataFrames that correspond to tables into an RDS instance. \n",
        "# Note: This process can take up to 10 minutes for each. Ensure that everything is correct before uploading.\n",
        "\n",
        " # Configure settings for RDS\n",
        "mode = \"append\"\n",
        "jdbc_url=\"jdbc:postgresql://aws-reviews.cxtrj4clfzmw.us-east-1.rds.amazonaws.com:5432/amazon_reviews\"\n",
        "config = {\"user\":\"root\", \n",
        "          \"password\": \"BeergutBobby\", \n",
        "          \"driver\":\"org.postgresql.Driver\"}\n",
        "\n",
        "          ## REMEMBER TO DELETE PASSWORD and ENDPOINT AFORE UPLOADING\n",
        "          ## AND THEN SHUT DOWN ALL AWS BUCKETS AND RDS"
      ],
      "metadata": {
        "id": "QRtMCLcQhz48"
      },
      "execution_count": 13,
      "outputs": []
    },
    {
      "cell_type": "code",
      "source": [
        "# Write DataFrames to tables\n",
        "\n",
        "review_id_table.write.jdbc(url=jdbc_url, table='review_id_table', mode=mode, properties=config)"
      ],
      "metadata": {
        "id": "4htC_C8OQsl5"
      },
      "execution_count": null,
      "outputs": []
    },
    {
      "cell_type": "code",
      "source": [
        "customers.write.jdbc(url=jdbc_url, table='customers', mode=mode, properties=config)"
      ],
      "metadata": {
        "id": "2GDt_-YQIWow"
      },
      "execution_count": null,
      "outputs": []
    },
    {
      "cell_type": "code",
      "source": [
        "products.write.jdbc(url=jdbc_url, table='products', mode=mode, properties=config)"
      ],
      "metadata": {
        "id": "SoTL22-uRHEi"
      },
      "execution_count": null,
      "outputs": []
    },
    {
      "cell_type": "code",
      "source": [
        "vine_table.write.jdbc(url=jdbc_url, table='vine_table', mode=mode, properties=config)"
      ],
      "metadata": {
        "id": "F7BBfGrvIZQs"
      },
      "execution_count": null,
      "outputs": []
    },
    {
      "cell_type": "code",
      "source": [
        ""
      ],
      "metadata": {
        "id": "H0X_ska3I6zp"
      },
      "execution_count": null,
      "outputs": []
    }
  ]
}